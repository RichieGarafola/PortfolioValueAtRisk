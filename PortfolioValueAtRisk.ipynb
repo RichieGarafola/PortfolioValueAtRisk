{
 "cells": [
  {
   "cell_type": "code",
   "execution_count": 1,
   "id": "f56f1388-3381-42d9-bdcf-c5525d186c47",
   "metadata": {},
   "outputs": [],
   "source": [
    "# Import required libraries\n",
    "\n",
    "%matplotlib inline\n",
    "\n",
    "import pandas as pd\n",
    "import numpy as np\n",
    "from scipy.stats import norm\n",
    "import matplotlib.pyplot as plt\n",
    "\n",
    "import yfinance as yf"
   ]
  },
  {
   "cell_type": "code",
   "execution_count": 2,
   "id": "95e862ce-0786-43d6-a7af-80c81d19be64",
   "metadata": {},
   "outputs": [
    {
     "name": "stdout",
     "output_type": "stream",
     "text": [
      "[*********************100%***********************]  5 of 5 completed\n"
     ]
    }
   ],
   "source": [
    "# Simulate a portfolio of stocks. \n",
    "# Define the symbols, the weights, and the investment amount.\n",
    "# Define the confidence level\n",
    "\n",
    "# create your portfolio of stocks\n",
    "# For this example I just use the FAANG stocks.\n",
    "tickers = ['META', 'AMZN', 'AAPL', 'NFLX', 'GOOG']\n",
    "\n",
    "# pick the weights of each stock (must add to 1)\n",
    "weights = np.array([0.25, 0.15, 0.15, 0.3, 0.15])\n",
    "\n",
    "# the size of the portfolio\n",
    "portfolio_value = 1_000\n",
    "\n",
    "# the confidence interval (95%)\n",
    "confidence = 0.05\n",
    "\n",
    "# Get the stock data for all the symbols\n",
    "data = yf.download(tickers, start=\"2015-01-01\", end=\"2022-12-31\")[\"Close\"]"
   ]
  },
  {
   "cell_type": "code",
   "execution_count": 3,
   "id": "24a61faa-b891-4238-86be-6a49df79c140",
   "metadata": {},
   "outputs": [],
   "source": [
    "# Compute portfolio returns\n",
    "# Take the covariance between the stocks in the portfolio into consideration\n",
    "\n",
    "# compute daily returns of each stock\n",
    "returns = data.pct_change()\n",
    "\n",
    "# compute the daily mean returns of each stock\n",
    "mean_returns = returns.mean()\n",
    "\n",
    "# compute portfolio mean return\n",
    "port_mean = mean_returns.dot(weights)\n",
    "\n",
    "# mean of investment returns\n",
    "investment_mean = (1 + port_mean) * portfolio_value\n",
    "\n",
    "# compute the portfolio covariance matrix\n",
    "cov_matrix = returns.cov()\n",
    "\n",
    "# compute portfolio standard deviation\n",
    "port_stdev = np.sqrt(weights.T.dot(cov_matrix).dot(weights))\n",
    "\n",
    "# standard deviation of investment returns\n",
    "investment_stdev = portfolio_value * port_stdev"
   ]
  },
  {
   "cell_type": "code",
   "execution_count": 4,
   "id": "7d2ca79d-b541-4ff0-9a37-704e2a9184a0",
   "metadata": {},
   "outputs": [
    {
     "name": "stdout",
     "output_type": "stream",
     "text": [
      "Portfolio VaR: 28.189930702646848\n"
     ]
    }
   ],
   "source": [
    "# Compute VaR (Value at Risk)\n",
    "\n",
    "# ppf takes a percentage and returns a standard deviation \n",
    "# multiplier for what value that percentage occurs at.\n",
    "# It is equivalent to a one-tail test on the density plot.\n",
    "percent_point = norm.ppf(confidence, investment_mean, investment_stdev)\n",
    "\n",
    "# VaR is the portfolio value less this amount.\n",
    "\n",
    "# calculate the VaR at the confidence interval\n",
    "value_at_risk = portfolio_value - percent_point\n",
    "\n",
    "# print it out\n",
    "print(f\"Portfolio VaR: {value_at_risk}\")"
   ]
  },
  {
   "cell_type": "markdown",
   "id": "906b4f86-3d61-4baa-bad2-f28567b2c4e0",
   "metadata": {},
   "source": [
    "### This is the most you can expect to lose in one day with 95% confidence."
   ]
  },
  {
   "cell_type": "markdown",
   "id": "e92f5d17-de0d-4e50-a64e-46192be84f4b",
   "metadata": {},
   "source": [
    "# Scaling VaR to different time frames"
   ]
  },
  {
   "cell_type": "code",
   "execution_count": 5,
   "id": "46d11676-9f51-4962-96be-3b02ec8e08ba",
   "metadata": {},
   "outputs": [
    {
     "data": {
      "image/png": "[encoded data removed]",
      "text/plain": [
       "<Figure size 432x288 with 1 Axes>"
      ]
     },
     "metadata": {
      "needs_background": "light"
     },
     "output_type": "display_data"
    }
   ],
   "source": [
    "# Multiply the one-day VaR by the square root of one (day) through the square root of 30 (days).\n",
    "\n",
    "value_at_risks = value_at_risk * np.sqrt(range(1, 31))\n",
    "\n",
    "# Create a plot\n",
    "\n",
    "# build plot of VaR over time\n",
    "plt.xlabel(\"Day\")\n",
    "plt.ylabel(\"Max loss\")\n",
    "plt.title(\"Portfolio VaR\")\n",
    "plt.plot(value_at_risks, \"r\")\n",
    "\n",
    "# Save the figure.\n",
    "# plt.savefig(\"./Images/portfolioVaR.jpg\")\n",
    "\n",
    "# show the plot\n",
    "plt.show()"
   ]
  },
  {
   "cell_type": "markdown",
   "id": "21bcb96f-5419-4667-a24d-4d83292b0247",
   "metadata": {},
   "source": [
    "VaR is a simple measure that comes with various assumptions, caveats, and criticisms. It should be used as one of many risk management techniques. Despite its simplicity, it is a useful tool in the trader’s tool belt."
   ]
  },
  {
   "cell_type": "code",
   "execution_count": null,
   "id": "dc626972-02fd-45b4-8262-2056013c46f1",
   "metadata": {},
   "outputs": [],
   "source": []
  }
 ],
 "metadata": {
  "kernelspec": {
   "display_name": "Python [conda env:RGNY] *",
   "language": "python",
   "name": "conda-env-RGNY-py"
  },
  "language_info": {
   "codemirror_mode": {
    "name": "ipython",
    "version": 3
   },
   "file_extension": ".py",
   "mimetype": "text/x-python",
   "name": "python",
   "nbconvert_exporter": "python",
   "pygments_lexer": "ipython3",
   "version": "3.7.11"
  }
 },
 "nbformat": 4,
 "nbformat_minor": 5
}
